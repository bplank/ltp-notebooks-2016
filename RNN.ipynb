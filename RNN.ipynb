{
 "cells": [
  {
   "cell_type": "markdown",
   "metadata": {
    "slideshow": {
     "slide_type": "slide"
    }
   },
   "source": [
    "# Recurrent Neural Networks"
   ]
  },
  {
   "cell_type": "markdown",
   "metadata": {
    "slideshow": {
     "slide_type": "fragment"
    }
   },
   "source": [
    "* so far our vanilla NNs expected a fixed-length input and predicted a fixed-length output (e.g., animacy)"
   ]
  },
  {
   "cell_type": "markdown",
   "metadata": {
    "slideshow": {
     "slide_type": "fragment"
    }
   },
   "source": [
    "* we are now looking at neural networks that **handle a variable length intput**\n"
   ]
  },
  {
   "cell_type": "markdown",
   "metadata": {
    "slideshow": {
     "slide_type": "fragment"
    }
   },
   "source": [
    "* the exciting idea behind **Recurrent Neural Networks** (RNN) is that they allows us to work on **sequences** of input, output, or both"
   ]
  },
  {
   "cell_type": "markdown",
   "metadata": {
    "slideshow": {
     "slide_type": "slide"
    }
   },
   "source": [
    "What do we mean by a *variable length input*?"
   ]
  },
  {
   "cell_type": "markdown",
   "metadata": {
    "slideshow": {
     "slide_type": "fragment"
    }
   },
   "source": [
    "A variable length input is a sequence where each input $x$ has a different length.\n",
    "\n",
    "For instance, the first training instance has $l$ dimensions (say, $l$ tokens), the second input sequence has $m$ dimensions (e.g., tokens).\n",
    "\n",
    "Mathematically, inspired by the notation of Cho (2015):\n",
    "$$ \\mathbf{x_1} = \\langle x_1, ..., x_l \\rangle$$ \n",
    "$$ \\mathbf{x_2} = \\langle x_1, ..., x_m \\rangle$$\n",
    "where $l\\neq m$\n"
   ]
  },
  {
   "cell_type": "markdown",
   "metadata": {
    "slideshow": {
     "slide_type": "slide"
    }
   },
   "source": [
    "### Detour: very simple example\n",
    "\n",
    "From Cho (2015). Assume we have a vector $\\mathbf{x}$ containing zeros and ones. We want to count the number of 1s.\n",
    "\n"
   ]
  },
  {
   "cell_type": "code",
   "execution_count": null,
   "metadata": {
    "collapsed": false,
    "slideshow": {
     "slide_type": "fragment"
    }
   },
   "outputs": [],
   "source": [
    "def add1(el,s):\n",
    "    if el==1: return s+1\n",
    "    else: return s"
   ]
  },
  {
   "cell_type": "code",
   "execution_count": 53,
   "metadata": {
    "collapsed": false,
    "slideshow": {
     "slide_type": "fragment"
    }
   },
   "outputs": [
    {
     "name": "stdout",
     "output_type": "stream",
     "text": [
      "count(1): 3\n"
     ]
    }
   ],
   "source": [
    "v=[0,1,0,0,1,1]\n",
    "s=0\n",
    "for el in v:\n",
    "    s=add1(el,s)\n",
    "print(\"count(1):\", s)"
   ]
  },
  {
   "cell_type": "markdown",
   "metadata": {
    "slideshow": {
     "slide_type": "fragment"
    }
   },
   "source": [
    "Two important components:\n",
    "* memory $s$\n",
    "* function $add1$ is applied to each symbol in input *one at a time* together with memory $s$"
   ]
  },
  {
   "cell_type": "markdown",
   "metadata": {
    "slideshow": {
     "slide_type": "fragment"
    }
   },
   "source": [
    "$\\rightarrow$ input of any length"
   ]
  },
  {
   "cell_type": "markdown",
   "metadata": {
    "slideshow": {
     "slide_type": "slide"
    }
   },
   "source": [
    "### Sequences\n",
    "\n",
    "In language technology we often work with sequences, e.g. sequences of words or sentences, e.g., $$ \\mathbf{x_2} = \\langle x_1, ..., x_m \\rangle$$"
   ]
  },
  {
   "cell_type": "markdown",
   "metadata": {
    "slideshow": {
     "slide_type": "fragment"
    }
   },
   "source": [
    "#### Approach 1: We have already seen one approach to handle such sequences"
   ]
  },
  {
   "cell_type": "markdown",
   "metadata": {
    "slideshow": {
     "slide_type": "fragment"
    }
   },
   "source": [
    "**mean** of word vectors in sentence(see Goldberg's primer); but what about word order?"
   ]
  },
  {
   "cell_type": "markdown",
   "metadata": {
    "slideshow": {
     "slide_type": "fragment"
    }
   },
   "source": [
    "#### Approach 2: Recurrent neural networks (RNNs)"
   ]
  },
  {
   "cell_type": "markdown",
   "metadata": {
    "slideshow": {
     "slide_type": "slide"
    }
   },
   "source": [
    "### RNNs (Elman, 1990): Dependence on previous step"
   ]
  },
  {
   "cell_type": "markdown",
   "metadata": {
    "slideshow": {
     "slide_type": "fragment"
    }
   },
   "source": [
    "* RNNs are called **recurrent** because they predict the next output being dependent on the previous output (i.e., like having a *memory* of what has been seen so far)\n"
   ]
  },
  {
   "cell_type": "markdown",
   "metadata": {
    "slideshow": {
     "slide_type": "fragment"
    }
   },
   "source": [
    "More formally, following the notation in Goldberg (2015):\n",
    "\n",
    "* $\\mathbf{x_{1:n}}$ input sequence\n",
    "* $\\mathbf{s_0}$ starting state (inital state)\n",
    "* function $R$ (\"memory up so far\") that takes a state vector $\\mathbf{s_i}$ and input vector $x_i$ and produces a new state $ \\mathbf{s_{i+1}}$\n",
    "* function $O$ maps from state to output $\\mathbf{y}$"
   ]
  },
  {
   "cell_type": "markdown",
   "metadata": {
    "slideshow": {
     "slide_type": "fragment"
    }
   },
   "source": [
    "Formulation of an RNN (Goldberg 2015): <img src=\"pics/rnn0.png\" width=400> \n",
    "\n",
    "Graphical representation of an RNN (Goldberg 2015): <img src=\"pics/rnn1.png\" width=400> "
   ]
  },
  {
   "cell_type": "markdown",
   "metadata": {
    "slideshow": {
     "slide_type": "slide"
    }
   },
   "source": [
    "### Unrolling over time\n",
    "\n",
    "<img src=\"pics/rnn2.png\" width=600>\n",
    "\n",
    "Note: $\\theta$ shared parameters over time!"
   ]
  },
  {
   "cell_type": "markdown",
   "metadata": {
    "slideshow": {
     "slide_type": "fragment"
    }
   },
   "source": [
    "##### Expansion at state 4: \n",
    "<img src=\"pics/rnn3.png\" width=500>\n",
    "Note $s_i$ based on all $s_0,..,s_i$."
   ]
  },
  {
   "cell_type": "markdown",
   "metadata": {
    "slideshow": {
     "slide_type": "slide"
    }
   },
   "source": [
    "##### Another visualization (Le Cun et al, 2015)\n",
    "\n",
    "<img src=\"http://d3kbpzbmcynnmx.cloudfront.net/wp-content/uploads/2015/09/rnn.jpg\" alt=\"illustration from WildML\">\n",
    "A recurrent neural network and the unfolding in time of the computation involved in its forward computation (LeCun et al., 2015)."
   ]
  },
  {
   "cell_type": "markdown",
   "metadata": {
    "slideshow": {
     "slide_type": "slide"
    }
   },
   "source": [
    "However, basic RNN tend to not work well past a few recent time steps (vanishing or exploding gradients; one trick: gradient clipping for exploding gradients; otherwise: alternative models)"
   ]
  },
  {
   "cell_type": "markdown",
   "metadata": {
    "slideshow": {
     "slide_type": "fragment"
    }
   },
   "source": [
    "### Different formulations of R,O\n",
    "\n",
    "lead to different instantiations of RNNS:\n",
    "\n",
    "* LSTM (Long Short-Term Memory) (Hochreiter and Schmidhuber, 1997)\n",
    "* GRU (Gated Recurrent Units) (Cho et al., 2014)\n"
   ]
  },
  {
   "cell_type": "markdown",
   "metadata": {
    "slideshow": {
     "slide_type": "fragment"
    }
   },
   "source": [
    "#### LSTM \n",
    "\n",
    "memory cells (read, write, forget) - gates that control flow (continous decisions: maybe read/write/forget)\n",
    "\n",
    "Helps to keep information longer"
   ]
  },
  {
   "cell_type": "markdown",
   "metadata": {},
   "source": [
    "* excellent introduction to LSTMS: [http://colah.github.io/posts/2015-08-Understanding-LSTMs/](http://colah.github.io/posts/2015-08-Understanding-LSTMs/)"
   ]
  },
  {
   "cell_type": "markdown",
   "metadata": {
    "slideshow": {
     "slide_type": "slide"
    }
   },
   "source": [
    "### Example: Sentiment Analysis"
   ]
  },
  {
   "cell_type": "markdown",
   "metadata": {
    "slideshow": {
     "slide_type": "fragment"
    }
   },
   "source": [
    "<img src=\"pics/many2one.png\" width=200>\n",
    "\n"
   ]
  },
  {
   "cell_type": "markdown",
   "metadata": {
    "slideshow": {
     "slide_type": "fragment"
    }
   },
   "source": [
    "Implementation: imdb_lstm example from Keras\n",
    "https://github.com/fchollet/keras/blob/master/examples/imdb_lstm.py  (NB: takes time to run!!)\n",
    "\n",
    "**N.B.** The examples has only a train/test split; don't use test for validation, use a dedicated dev set."
   ]
  },
  {
   "cell_type": "code",
   "execution_count": 49,
   "metadata": {
    "collapsed": false,
    "slideshow": {
     "slide_type": "fragment"
    }
   },
   "outputs": [
    {
     "name": "stderr",
     "output_type": "stream",
     "text": [
      "Using Theano backend.\n"
     ]
    },
    {
     "name": "stdout",
     "output_type": "stream",
     "text": [
      "Loading data...\n",
      "20000 train sequences\n",
      "5000 test sequences\n",
      "Pad sequences (samples x time)\n",
      "X_train shape: (20000, 80)\n",
      "X_test shape: (5000, 80)\n",
      "Build model...\n",
      "Train...\n",
      "(20000, 80)\n",
      "(20000,)\n",
      "Train on 20000 samples, validate on 5000 samples\n",
      "Epoch 1/15\n",
      "20000/20000 [==============================] - 114s - loss: 0.5731 - acc: 0.6960 - val_loss: 0.4340 - val_acc: 0.8030\n",
      "Epoch 2/15\n",
      "20000/20000 [==============================] - 118s - loss: 0.4221 - acc: 0.8132 - val_loss: 0.3903 - val_acc: 0.8226\n",
      "Epoch 3/15\n",
      "20000/20000 [==============================] - 120s - loss: 0.3353 - acc: 0.8570 - val_loss: 0.3857 - val_acc: 0.8238\n",
      "Epoch 4/15\n",
      "20000/20000 [==============================] - 121s - loss: 0.2772 - acc: 0.8864 - val_loss: 0.3912 - val_acc: 0.8238\n",
      "Epoch 5/15\n",
      "20000/20000 [==============================] - 120s - loss: 0.2304 - acc: 0.9091 - val_loss: 0.4525 - val_acc: 0.8170\n",
      "Epoch 6/15\n",
      "20000/20000 [==============================] - 121s - loss: 0.1919 - acc: 0.9259 - val_loss: 0.5348 - val_acc: 0.8100\n",
      "Epoch 7/15\n",
      "20000/20000 [==============================] - 122s - loss: 0.1634 - acc: 0.9388 - val_loss: 0.4766 - val_acc: 0.8160\n",
      "Epoch 8/15\n",
      "20000/20000 [==============================] - 121s - loss: 0.1339 - acc: 0.9503 - val_loss: 0.5492 - val_acc: 0.8174\n",
      "Epoch 9/15\n",
      "20000/20000 [==============================] - 120s - loss: 0.1241 - acc: 0.9528 - val_loss: 0.5029 - val_acc: 0.8188\n",
      "Epoch 10/15\n",
      "20000/20000 [==============================] - 121s - loss: 0.1040 - acc: 0.9606 - val_loss: 0.6347 - val_acc: 0.8134\n",
      "Epoch 11/15\n",
      "20000/20000 [==============================] - 122s - loss: 0.0901 - acc: 0.9659 - val_loss: 0.6492 - val_acc: 0.8098\n",
      "Epoch 12/15\n",
      "20000/20000 [==============================] - 122s - loss: 0.0810 - acc: 0.9689 - val_loss: 0.6644 - val_acc: 0.8120\n",
      "Epoch 13/15\n",
      "20000/20000 [==============================] - 122s - loss: 0.0772 - acc: 0.9718 - val_loss: 0.6266 - val_acc: 0.8112\n",
      "Epoch 14/15\n",
      "20000/20000 [==============================] - 123s - loss: 0.0691 - acc: 0.9755 - val_loss: 0.7563 - val_acc: 0.8098\n",
      "Epoch 15/15\n",
      "20000/20000 [==============================] - 121s - loss: 0.0666 - acc: 0.9757 - val_loss: 0.6680 - val_acc: 0.8154\n",
      "5000/5000 [==============================] - 6s     \n",
      "Test score: 0.668048014212\n",
      "Test accuracy: 0.8154\n"
     ]
    }
   ],
   "source": [
    "'''Trains a LSTM on the IMDB sentiment classification task.\n",
    "The dataset is actually too small for LSTM to be of any advantage\n",
    "compared to simpler, much faster methods such as TF-IDF+LogReg.\n",
    "Notes:\n",
    "- RNNs are tricky. Choice of batch size is important,\n",
    "choice of loss and optimizer is critical, etc.\n",
    "Some configurations won't converge.\n",
    "- LSTM loss decrease patterns during training can be quite different\n",
    "from what you see with CNNs/MLPs/etc.\n",
    "'''\n",
    "from __future__ import print_function\n",
    "import numpy as np\n",
    "np.random.seed(1337)  # for reproducibility\n",
    "\n",
    "from keras.preprocessing import sequence\n",
    "from keras.utils import np_utils\n",
    "from keras.models import Sequential\n",
    "from keras.layers.core import Dense, Dropout, Activation\n",
    "from keras.layers.embeddings import Embedding\n",
    "from keras.layers.recurrent import LSTM, SimpleRNN, GRU\n",
    "from keras.datasets import imdb\n",
    "\n",
    "max_features = 20000\n",
    "maxlen = 80  # cut texts after this number of words (among top max_features most common words)\n",
    "batch_size = 32\n",
    "\n",
    "print('Loading data...')\n",
    "(X_train, y_train), (X_test, y_test) = imdb.load_data(nb_words=max_features,\n",
    "                                                      test_split=0.2)\n",
    "print(len(X_train), 'train sequences')\n",
    "print(len(X_test), 'test sequences')\n",
    "\n",
    "print('Pad sequences (samples x time)')\n",
    "X_train = sequence.pad_sequences(X_train, maxlen=maxlen)\n",
    "X_test = sequence.pad_sequences(X_test, maxlen=maxlen)\n",
    "print('X_train shape:', X_train.shape)\n",
    "print('X_test shape:', X_test.shape)\n",
    "\n",
    "print('Build model...')\n",
    "model = Sequential()\n",
    "model.add(Embedding(max_features, 128, input_length=maxlen, dropout=0.2))\n",
    "model.add(LSTM(128, dropout_W=0.2, dropout_U=0.2))  # try using a GRU instead, for fun\n",
    "model.add(Dense(1))\n",
    "model.add(Activation('sigmoid'))\n",
    "\n",
    "# try using different optimizers and different optimizer configs\n",
    "model.compile(loss='binary_crossentropy',\n",
    "              optimizer='adam',\n",
    "              metrics=['accuracy'])\n",
    "\n",
    "print('Train...')\n",
    "print(X_train.shape)\n",
    "print(y_train.shape)\n",
    "model.fit(X_train, y_train, batch_size=batch_size, nb_epoch=15,\n",
    "          validation_data=(X_test, y_test))\n",
    "score, acc = model.evaluate(X_test, y_test,\n",
    "                            batch_size=batch_size)\n",
    "print('Test score:', score)\n",
    "print('Test accuracy:', acc)"
   ]
  },
  {
   "cell_type": "markdown",
   "metadata": {
    "slideshow": {
     "slide_type": "slide"
    }
   },
   "source": [
    "\n",
    "### RNNs:  **sequences** of input, output, or both\n",
    "\n",
    "Karpathy's illustration of RNNs:\n",
    "<img src=\"http://benjaminbolte.com/resources/attention_rnn/karpathy_rnn.jpeg\">\n",
    "\n",
    "* From left to right: (1) Vanilla mode of processing without RNN, from fixed-sized input to fixed-sized output (e.g. image classification). (2) Sequence output (e.g. image captioning takes an image and outputs a sentence of words). (3) Sequence input (e.g. sentiment analysis where a given sentence is classified as expressing positive or negative sentiment). (4) Sequence input and sequence output (e.g. Machine Translation: an RNN reads a sentence in English and then outputs a sentence in French). (5) Synced sequence input and output (e.g. video classification where we wish to label each frame of the video). Notice that in every case are no pre-specified constraints on the lengths sequences because the recurrent transformation (green) is fixed and can be applied as many times as we like.*"
   ]
  },
  {
   "cell_type": "markdown",
   "metadata": {
    "slideshow": {
     "slide_type": "slide"
    }
   },
   "source": [
    "##### One to many: Image caption generation, Karpathy and Li (2014)\n",
    "<img src=\"pics/karpathy-li-2014.png\" width=500>\n",
    "http://www.cv-foundation.org/openaccess/content_cvpr_2015/papers/Karpathy_Deep_Visual-Semantic_Alignments_2015_CVPR_paper.pdf"
   ]
  },
  {
   "cell_type": "markdown",
   "metadata": {
    "slideshow": {
     "slide_type": "slide"
    }
   },
   "source": [
    "##### Many to many: sequence to sequence Machine Translation (Sutskever et al., 2014)\n",
    "<img src=\"pics/seq2seq.png\">\n",
    "http://papers.nips.cc/paper/5346-sequence-to-sequence-learning-with-neural-networks.pdf"
   ]
  },
  {
   "cell_type": "markdown",
   "metadata": {
    "slideshow": {
     "slide_type": "slide"
    }
   },
   "source": [
    "##### many to many: POS tagging\n",
    "\n",
    "bidirectional RNN (biRNN/biLSTM):\n",
    "\n",
    "<img src=\"pics/bilstm.png\" width=600>"
   ]
  },
  {
   "cell_type": "markdown",
   "metadata": {
    "slideshow": {
     "slide_type": "slide"
    }
   },
   "source": [
    "## References\n",
    "\n",
    "* [Kyunghyun Cho's excellent lecture notes, chapter 4](http://arxiv.org/abs/1511.07916)\n",
    "* [Karpathy's blog on RNNs](http://karpathy.github.io/2015/05/21/rnn-effectiveness/)\n",
    "* [WildMl blog](http://www.wildml.com/2015/09/recurrent-neural-networks-tutorial-part-1-introduction-to-rnns/)\n",
    "    "
   ]
  }
 ],
 "metadata": {
  "celltoolbar": "Slideshow",
  "kernelspec": {
   "display_name": "Python 3",
   "language": "python",
   "name": "python3"
  },
  "language_info": {
   "codemirror_mode": {
    "name": "ipython",
    "version": 3
   },
   "file_extension": ".py",
   "mimetype": "text/x-python",
   "name": "python",
   "nbconvert_exporter": "python",
   "pygments_lexer": "ipython3",
   "version": "3.5.1"
  }
 },
 "nbformat": 4,
 "nbformat_minor": 0
}
