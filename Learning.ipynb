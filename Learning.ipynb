{
 "cells": [
  {
   "cell_type": "markdown",
   "metadata": {},
   "source": [
    "# Learning"
   ]
  },
  {
   "cell_type": "markdown",
   "metadata": {},
   "source": [
    "After this notebook you should:\n",
    "* know where the weights come from\n",
    "* why we need non-linearities"
   ]
  },
  {
   "cell_type": "markdown",
   "metadata": {},
   "source": [
    "## A feed-forward neural network\n",
    "Recall our network <img src=\"pics/nn.png\"> \n",
    "$$NN_{MLP1}(\\mathbf{x})=g(\\mathbf{xW^1+b^1})\\mathbf{W^2}+\\mathbf{b^2}$$\n"
   ]
  },
  {
   "cell_type": "markdown",
   "metadata": {},
   "source": [
    "So where do the weights come from? \n",
    "\n",
    "We can apply a learning algorithm called **backprob** to learn (or estimate) these weights. But before we get there, lets first look at an intuition."
   ]
  },
  {
   "cell_type": "markdown",
   "metadata": {},
   "source": [
    "We want to adjust the weights so that *a small change in the output should have a small effect in the output*.\n",
    "However, with a simple perceptron a small change might often have a large effect. Remember, the decision function for the perceptron is a threshold, this can be seen as a **step function**: <img src=\"https://upload.wikimedia.org/wikipedia/commons/a/ac/HardLimitFunction.png\" width=300> \n",
    "\n",
    "It is 0 for everything below 0 and 1 for positive outputs. If you are already close to the threshold, a small change might have a large effect.\n",
    "<img src=\"http://neuralnetworksanddeeplearning.com/images/tikz8.png\">\n",
    "\n",
    "For another reason that we will see later, we will not use simple thresholding, i.e., a **step function**, but rather a smoother function like the **sigmoid** function."
   ]
  },
  {
   "cell_type": "markdown",
   "metadata": {},
   "source": [
    "### What's $g$? A sigmoid neuron\n",
    "\n",
    "A commonly used activation function $g$ is the sigmoid **sigmoid function** (aka logistic sigmoid function). A sigmoid neuron gets inputs and weights them by $W$, then it applies the **non-linearity** $g$.\n",
    "\n",
    "$$y = g_{sigmoid}(x \\cdot w + b)$$\n",
    "\n",
    "where $$g_{sigmoid} = \\sigma(z) = \\frac{1}{1 + e ^{-z}}$$"
   ]
  },
  {
   "cell_type": "code",
   "execution_count": 54,
   "metadata": {
    "collapsed": false
   },
   "outputs": [
    {
     "data": {
      "image/png": "[encoded data removed]",
      "text/plain": [
       "<matplotlib.figure.Figure at 0x10d7043c8>"
      ]
     },
     "metadata": {},
     "output_type": "display_data"
    }
   ],
   "source": [
    "%matplotlib inline\n",
    "## credits: http://squall0032.tumblr.com/post/77300791096/plotting-a-sigmoid-function-using\n",
    "import math\n",
    "\n",
    "def sigmoid(x):\n",
    "    a = []\n",
    "    for item in x:\n",
    "        a.append(1/(1+math.exp(-item)))\n",
    "    return a\n",
    "\n",
    "import matplotlib.pyplot as plt\n",
    "import numpy as np\n",
    "\n",
    "x = np.arange(-10., 10., 0.2)\n",
    "sig = sigmoid(x)\n",
    "plt.plot(x,sig)\n",
    "plt.show()\n",
    "\n"
   ]
  },
  {
   "cell_type": "markdown",
   "metadata": {},
   "source": [
    "Assume now our network above contains sigmoid neurons. \n",
    "$$NN_{MLP1}(\\mathbf{x})=g_{sigmoid}(\\mathbf{xW^1+b^1})\\mathbf{W^2}+\\mathbf{b^2}$$\n"
   ]
  },
  {
   "cell_type": "markdown",
   "metadata": {},
   "source": [
    "(CREDITS: The following has been taken from AJ and ZA's tutorial):\n",
    "We'll start with a hypothetical (xkcd-style).\n",
    "\n",
    "<img src=\"https://what-if.xkcd.com/imgs/whatif-logo.png\">\n",
    "\n",
    "### What if all the non-linearities in an NN suddenly vanished?"
   ]
  },
  {
   "cell_type": "markdown",
   "metadata": {},
   "source": [
    "For now, lets simply ignore the bias term to simplfiy our notation. \n",
    "\n",
    "A neural network with an input layer, a middle layer, and an output layer computes the following:\n",
    "\n",
    "$$\\mathbf{y} = g(W^{(0)}g(W^{(1)}g(W^{(0)}\\mathbf{x})))$$\n",
    "\n",
    "$g$ is a non-linearity, which could be different for each layer."
   ]
  },
  {
   "cell_type": "markdown",
   "metadata": {},
   "source": [
    "If we change $g$ to a linear function (e.g. a scaling factor), it can simply be multiplied into the weights matrices. Below we assume that $g = 1$, which allows us to simplify the expression:\n",
    "\n",
    "$$\\mathbf{y} = (W^{(0)}(W^{(1)}(W^{(0)}\\mathbf{x})))$$"
   ]
  },
  {
   "cell_type": "markdown",
   "metadata": {},
   "source": [
    "Since matrix multiplication is associative:\n",
    "\n",
    "$$A(BC) = (AB)C,$$\n",
    "\n",
    "we can get rid of the brackets altogether:\n",
    "\n",
    "$$\\mathbf{y} = W^{(0)}W^{(1)}W^{(0)}\\mathbf{x}.$$\n",
    "\n",
    "The series of linear transformations can be summarized in a single transformation matrix :\n",
    "\n",
    "$$T = W^{(0)}W^{(1)}W^{(0)}.$$\n",
    "\n",
    "And so the prediction of the neural network becomes:\n",
    "\n",
    "$$\\mathbf{y} = T\\mathbf{x}.$$\n",
    "\n",
    "The effective number of parameters in the now non non-linear neural network is $|\\mathbf{y}| \\times |\\mathbf{x}|$, which is precisely the same as a standard linear model.\n",
    "\n",
    "I.E, the non-linearities are crucial!\n"
   ]
  },
  {
   "cell_type": "markdown",
   "metadata": {},
   "source": [
    "## Forward pass "
   ]
  },
  {
   "cell_type": "markdown",
   "metadata": {},
   "source": [
    "What we have called 'compute' before is usually referred to as the forward pass in the neural network. It is going from the inputs through the layers to the outputs."
   ]
  },
  {
   "cell_type": "code",
   "execution_count": 55,
   "metadata": {
    "collapsed": false
   },
   "outputs": [
    {
     "name": "stdout",
     "output_type": "stream",
     "text": [
      "[[ 0.  0.  0.  0.]\n",
      " [ 0.  0.  0.  0.]\n",
      " [ 0.  0.  0.  0.]\n",
      " [ 0.  0.  0.  0.]]\n"
     ]
    }
   ],
   "source": [
    "# forward-pass of a 3-layer neural network:\n",
    "f = lambda x: 1.0/(1.0 + np.exp(-x)) # activation function (use sigmoid)\n",
    "x = np.random.randn(3) # random input vector of three numbers (1x3) \n",
    "W1 = np.zeros((3,4))   # Weights (3x4)\n",
    "W2 = np.zeros((4,4))   # Weights (4x4)\n",
    "W3 = np.zeros((4,1))   # Weights (4x1)\n",
    "b1 = np.zeros((1,4))\n",
    "b2 = np.zeros((1,4))\n",
    "b3 = np.zeros((1,4))\n",
    "h1=f(np.dot(x,W1)+b1) # calculate the activations of the first hidden layer (1x4) - linear transformation followed by non-linearity!\n",
    "h2=f(np.dot(h1,W2)+b2) # calculate the activations of the second hidden layer (1x4)\n",
    "out = np.dot(W3, h2) + b3 # output neuron (1x1)\n",
    "print(out)"
   ]
  },
  {
   "cell_type": "markdown",
   "metadata": {},
   "source": [
    "## Backward pass (derivates)\n"
   ]
  },
  {
   "cell_type": "markdown",
   "metadata": {},
   "source": [
    "**High level idea**: Calculate partial derivatives with respect to each parameter in the network.  The **backpropagation algorithm** is a way of computing gradients of expressions through recursive application of the **chain rule**."
   ]
  },
  {
   "cell_type": "markdown",
   "metadata": {},
   "source": [
    "### What is a derivative?\n",
    "\n",
    "A derivative gives us a linear approximation of the function at a specific point.\n",
    "\n",
    "So given a function $f$, its derivate at point $a$, $m = f'(a)$, we can approximate the original function as \n",
    "\n",
    "$$g(x) = f(a) + m(a - x)$$"
   ]
  },
  {
   "cell_type": "markdown",
   "metadata": {},
   "source": [
    "This allows us to estimate the impact of a change in a parameter with respect to the final output of the network. It is especially useful if we make the network compute a **scalar loss** during training, i.e. have a $1 \\times 1$ output node that measures how much we **dislike** the current prediction."
   ]
  },
  {
   "cell_type": "markdown",
   "metadata": {},
   "source": [
    "### Backpropagation\n"
   ]
  },
  {
   "cell_type": "markdown",
   "metadata": {},
   "source": [
    "Compute error signal $\\delta_j = a_j - y$ for each output node, then propagate this back through the network. \n",
    "\n",
    "We'll return to this when we see computational graphs."
   ]
  },
  {
   "cell_type": "markdown",
   "metadata": {},
   "source": [
    "Video: [Andrew Ng's video on Coursera](https://class.coursera.org/ml-003/lecture/51)"
   ]
  },
  {
   "cell_type": "markdown",
   "metadata": {},
   "source": [
    "### Commonly-used activation functions\n",
    "Tanh: <img src=\"http://cs231n.github.io/assets/nn1/tanh.jpeg\">\n",
    "Sigmoid: <img src=\"http://cs231n.github.io/assets/nn1/sigmoid.jpeg\">\n",
    "ReLu: <img src=\"http://cs231n.github.io/assets/nn1/relu.jpeg\">\n",
    "\n"
   ]
  },
  {
   "cell_type": "markdown",
   "metadata": {},
   "source": [
    "# Multi-class classification"
   ]
  },
  {
   "cell_type": "markdown",
   "metadata": {},
   "source": [
    "Usually we will have problems with multiple classes. In deep learning, each class is usually represented as a **one-hot** vector."
   ]
  },
  {
   "cell_type": "markdown",
   "metadata": {},
   "source": [
    "###  What is y?\n",
    "<img src=\"pics/multiclass.png\">\n"
   ]
  },
  {
   "cell_type": "markdown",
   "metadata": {},
   "source": [
    "### What is x?"
   ]
  },
  {
   "cell_type": "markdown",
   "metadata": {},
   "source": [
    "In deep learning we usually work with dense representations. Each feature is a vector of numbers."
   ]
  },
  {
   "cell_type": "markdown",
   "metadata": {},
   "source": [
    "**a) sparse representation vs b) dense representation**\n",
    "\n",
    "<img src=\"pics/sparsevsdense.png\">\n"
   ]
  },
  {
   "cell_type": "markdown",
   "metadata": {},
   "source": [
    "### References\n",
    "* More details in [Michael Nielsen's book chapter 1](http://neuralnetworksanddeeplearning.com/chap1.html)\n",
    "* Yoav Goldberg's tutorial: [A Primer on Neural Network Models for Natural Language Processing](http://arxiv.org/abs/1510.00726)\n",
    "* AJ's [simplest_nn](https://github.com/andersjo/simplest_nn)\n",
    "* CS231n [notes](http://cs231n.github.io/optimization-2/)"
   ]
  },
  {
   "cell_type": "code",
   "execution_count": null,
   "metadata": {
    "collapsed": true
   },
   "outputs": [],
   "source": []
  }
 ],
 "metadata": {
  "kernelspec": {
   "display_name": "Python 3",
   "language": "python",
   "name": "python3"
  },
  "language_info": {
   "codemirror_mode": {
    "name": "ipython",
    "version": 3
   },
   "file_extension": ".py",
   "mimetype": "text/x-python",
   "name": "python",
   "nbconvert_exporter": "python",
   "pygments_lexer": "ipython3",
   "version": "3.5.1"
  }
 },
 "nbformat": 4,
 "nbformat_minor": 0
}
