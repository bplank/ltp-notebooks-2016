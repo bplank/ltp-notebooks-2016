{
 "cells": [
  {
   "cell_type": "markdown",
   "metadata": {
    "slideshow": {
     "slide_type": "slide"
    }
   },
   "source": [
    "# Introduction to Jupyter notebook"
   ]
  },
  {
   "cell_type": "markdown",
   "metadata": {
    "slideshow": {
     "slide_type": "fragment"
    }
   },
   "source": [
    "This is a short tutorial on how to use the **jupyter notebook** (also referred to as **ipython notebook**). The ipython/jupyter notebook is an interactive enviornment that lets you use execute code in your browser. A notebook is typically a mix of text and code."
   ]
  },
  {
   "cell_type": "markdown",
   "metadata": {
    "slideshow": {
     "slide_type": "slide"
    }
   },
   "source": [
    "To install the notebook, type: \n",
    "\n",
    "`pip install jupyter` \n",
    "\n",
    "(or `conda install jupyter`)"
   ]
  },
  {
   "cell_type": "markdown",
   "metadata": {
    "slideshow": {
     "slide_type": "subslide"
    }
   },
   "source": [
    "## Starting the notebook\n",
    "Navigate to the directory where you want to store your notebook. To start up the notebook, type `jupyter notebook`. This will open up a browser with that will show you the content of the directory (alternatively, navigate directly to `localhost:8888`)."
   ]
  },
  {
   "cell_type": "markdown",
   "metadata": {
    "slideshow": {
     "slide_type": "subslide"
    }
   },
   "source": [
    "If everything worked you should see the following in your browser (assuming that you are in a new empty directory; otherwise it will list you the content of that directory):"
   ]
  },
  {
   "cell_type": "markdown",
   "metadata": {
    "collapsed": true,
    "slideshow": {
     "slide_type": "fragment"
    }
   },
   "source": [
    "<img src=\"pics/Jupyter1.png\">"
   ]
  },
  {
   "cell_type": "markdown",
   "metadata": {
    "slideshow": {
     "slide_type": "slide"
    }
   },
   "source": [
    "## Creating a new notebook"
   ]
  },
  {
   "cell_type": "markdown",
   "metadata": {
    "slideshow": {
     "slide_type": "fragment"
    }
   },
   "source": [
    "To create a new notebook click the **new** button on the upper right and select \"ipython3 notebook\". You will get a new empty notebook. A notebook consists of cells. Cells can have different types, like a cell can contain *code*, *markdown* or a *heading*. By default the notebook creates a **code** cell (see that *code* is selected in the toolbar above). "
   ]
  },
  {
   "cell_type": "markdown",
   "metadata": {
    "slideshow": {
     "slide_type": "fragment"
    }
   },
   "source": [
    "<img src=\"pics/Jupyter2.png\">"
   ]
  },
  {
   "cell_type": "markdown",
   "metadata": {
    "slideshow": {
     "slide_type": "slide"
    }
   },
   "source": [
    "A code cell is connected to a Python interpreter and you can run code in this cell. Try with some number arithmetic, like `0.5*2`. To execute the cell press SHIFT+Enter."
   ]
  },
  {
   "cell_type": "markdown",
   "metadata": {
    "slideshow": {
     "slide_type": "fragment"
    }
   },
   "source": [
    "<img src=\"pics/Jupyter3.png\">\n"
   ]
  },
  {
   "cell_type": "markdown",
   "metadata": {
    "slideshow": {
     "slide_type": "slide"
    }
   },
   "source": [
    "Now lets enter some text. For that we change the format of the cell to **markdown**. \n",
    "\n",
    "<img src=\"pics/Jupyter5.png\"> \n",
    "\n",
    "Entering text in markdown is like wiki syntax, you can get boldface by using two asterisks around the text. See this text cell to find out how we created different inputs, like formating or even math! *This* **is** some math here: $\\sum_{i=1}^{N=3} x_i$"
   ]
  },
  {
   "cell_type": "markdown",
   "metadata": {
    "slideshow": {
     "slide_type": "slide"
    }
   },
   "source": [
    "If you use variables they are globally accessible in the entire notebook. <img src=\"pics/Jupyter6.png\">"
   ]
  },
  {
   "cell_type": "markdown",
   "metadata": {
    "slideshow": {
     "slide_type": "slide"
    }
   },
   "source": [
    "Now lets get started and write some code. \n",
    "\n",
    "<img src=\"pics/Jupyter7.png\">"
   ]
  },
  {
   "cell_type": "markdown",
   "metadata": {
    "slideshow": {
     "slide_type": "slide"
    }
   },
   "source": [
    "Remember always to save your notebooks: <img src=\"pics/Jupyter4.png\">"
   ]
  },
  {
   "cell_type": "code",
   "execution_count": null,
   "metadata": {
    "collapsed": true
   },
   "outputs": [],
   "source": []
  }
 ],
 "metadata": {
  "celltoolbar": "Slideshow",
  "kernelspec": {
   "display_name": "Python 3",
   "language": "python",
   "name": "python3"
  },
  "language_info": {
   "codemirror_mode": {
    "name": "ipython",
    "version": 3
   },
   "file_extension": ".py",
   "mimetype": "text/x-python",
   "name": "python",
   "nbconvert_exporter": "python",
   "pygments_lexer": "ipython3",
   "version": "3.5.1"
  }
 },
 "nbformat": 4,
 "nbformat_minor": 0
}
